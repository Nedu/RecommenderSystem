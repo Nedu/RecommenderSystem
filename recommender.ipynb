{
 "cells": [
  {
   "cell_type": "code",
   "execution_count": 3,
   "metadata": {},
   "outputs": [],
   "source": [
    "import re\n",
    "import csv\n",
    "import sys\n",
    "import os.path\n",
    "import argparse"
   ]
  },
  {
   "cell_type": "code",
   "execution_count": 4,
   "metadata": {},
   "outputs": [
    {
     "data": {
      "text/plain": [
       "9223372036854775807"
      ]
     },
     "execution_count": 4,
     "metadata": {},
     "output_type": "execute_result"
    }
   ],
   "source": [
    "# allow large content in the dump\n",
    "csv.field_size_limit(sys.maxsize)"
   ]
  },
  {
   "cell_type": "code",
   "execution_count": 5,
   "metadata": {},
   "outputs": [],
   "source": [
    "def is_insert(line):\n",
    "    return 'INSERT INTO' in line or False"
   ]
  },
  {
   "cell_type": "code",
   "execution_count": 6,
   "metadata": {},
   "outputs": [],
   "source": [
    "def get_values(line):\n",
    "    return line.partition(' VALUES ')[2]"
   ]
  },
  {
   "cell_type": "code",
   "execution_count": 7,
   "metadata": {},
   "outputs": [],
   "source": [
    "def get_table_name(line):\n",
    "    match = re.search('INSERT INTO `([0-9_a-zA-Z]+)`', line)\n",
    "    if match:\n",
    "        return match.group(1)\n",
    "    else:\n",
    "        print(line)"
   ]
  },
  {
   "cell_type": "code",
   "execution_count": 8,
   "metadata": {},
   "outputs": [],
   "source": [
    "def get_columns(line):\n",
    "    match = re.search('INSERT INTO `.*` \\(([^\\)]+)\\)', line)\n",
    "    if match:\n",
    "        return list(map(lambda x: x.replace('`', '').strip(), match.group(1).split(',')))"
   ]
  },
  {
   "cell_type": "code",
   "execution_count": 9,
   "metadata": {},
   "outputs": [],
   "source": [
    "def values_sanity_check(values):\n",
    "    assert values\n",
    "    assert values[0] == '('\n",
    "    # Assertions have not been raised\n",
    "    return True"
   ]
  },
  {
   "cell_type": "code",
   "execution_count": 10,
   "metadata": {},
   "outputs": [],
   "source": [
    "def parse_values(values):\n",
    "    rows = []\n",
    "    latest_row = []\n",
    "\n",
    "    reader = csv.reader([values], delimiter=',',\n",
    "                        doublequote=False,\n",
    "                        escapechar='\\\\',\n",
    "                        quotechar=\"'\",\n",
    "                        strict=True\n",
    "    )\n",
    "\n",
    "    for reader_row in reader:\n",
    "        for column in reader_row:\n",
    "            if len(column) == 0 or column == 'NULL':\n",
    "                latest_row.append(chr(0))\n",
    "                continue\n",
    "            if column[0] == \"(\":\n",
    "                new_row = False\n",
    "                if len(latest_row) > 0:\n",
    "                    if latest_row[-1][-1] == \")\":\n",
    "                        latest_row[-1] = latest_row[-1][:-1]\n",
    "                        new_row = True\n",
    "                if new_row:\n",
    "                    latest_row = ['' if field == '\\x00' else field for field in latest_row]\n",
    "\n",
    "                    rows.append(latest_row)\n",
    "                    latest_row = []\n",
    "                if len(latest_row) == 0:\n",
    "                    column = column[1:]\n",
    "            latest_row.append(column)\n",
    "        if latest_row[-1][-2:] == \");\":\n",
    "            latest_row[-1] = latest_row[-1][:-2]\n",
    "            latest_row = ['' if field == '\\x00' else field for field in latest_row]\n",
    "\n",
    "            rows.append(latest_row)\n",
    "\n",
    "        return rows"
   ]
  },
  {
   "cell_type": "code",
   "execution_count": 11,
   "metadata": {},
   "outputs": [],
   "source": [
    "def main(filepath, output_folder):\n",
    "    with open(filepath, 'rb') as f:\n",
    "        for line in f.readlines():\n",
    "            try:\n",
    "                line = line.decode(\"utf-8\")\n",
    "\n",
    "            except UnicodeDecodeError:\n",
    "                line = str(line)\n",
    "            if is_insert(line):\n",
    "                table_name = get_table_name(line)\n",
    "                columns = get_columns(line)\n",
    "                values = get_values(line)\n",
    "                if values_sanity_check(values):\n",
    "                    rows = parse_values(values)\n",
    "\n",
    "                if not os.path.isfile(output_folder + table_name + '.csv'):\n",
    "                    with open(output_folder + table_name + '.csv', 'w') as outcsv:\n",
    "                        writer = csv.writer(outcsv, quoting=csv.QUOTE_ALL)\n",
    "                        writer.writerow(columns)\n",
    "                        for row in rows:\n",
    "                            writer.writerow(row)\n",
    "                else:\n",
    "                    with open(output_folder + table_name + '.csv', 'a') as outcsv:\n",
    "                        writer = csv.writer(outcsv, quoting=csv.QUOTE_ALL)\n",
    "                        for row in rows:\n",
    "                            writer.writerow(row)"
   ]
  },
  {
   "cell_type": "code",
   "execution_count": 15,
   "metadata": {},
   "outputs": [
    {
     "ename": "AssertionError",
     "evalue": "",
     "output_type": "error",
     "traceback": [
      "\u001b[0;31m---------------------------------------------------------------------------\u001b[0m",
      "\u001b[0;31mAssertionError\u001b[0m                            Traceback (most recent call last)",
      "\u001b[0;32m<ipython-input-15-f206d556e580>\u001b[0m in \u001b[0;36m<module>\u001b[0;34m\u001b[0m\n\u001b[1;32m     12\u001b[0m     \u001b[0mout_dir\u001b[0m \u001b[0;34m=\u001b[0m \u001b[0;34m'./csv/'\u001b[0m\u001b[0;34m\u001b[0m\u001b[0;34m\u001b[0m\u001b[0m\n\u001b[1;32m     13\u001b[0m \u001b[0;34m\u001b[0m\u001b[0m\n\u001b[0;32m---> 14\u001b[0;31m     \u001b[0mmain\u001b[0m\u001b[0;34m(\u001b[0m\u001b[0mfile_path\u001b[0m\u001b[0;34m,\u001b[0m \u001b[0mout_dir\u001b[0m\u001b[0;34m)\u001b[0m\u001b[0;34m\u001b[0m\u001b[0;34m\u001b[0m\u001b[0m\n\u001b[0m",
      "\u001b[0;32m<ipython-input-11-5064d31f0d74>\u001b[0m in \u001b[0;36mmain\u001b[0;34m(filepath, output_folder)\u001b[0m\n\u001b[1;32m     11\u001b[0m                 \u001b[0mcolumns\u001b[0m \u001b[0;34m=\u001b[0m \u001b[0mget_columns\u001b[0m\u001b[0;34m(\u001b[0m\u001b[0mline\u001b[0m\u001b[0;34m)\u001b[0m\u001b[0;34m\u001b[0m\u001b[0;34m\u001b[0m\u001b[0m\n\u001b[1;32m     12\u001b[0m                 \u001b[0mvalues\u001b[0m \u001b[0;34m=\u001b[0m \u001b[0mget_values\u001b[0m\u001b[0;34m(\u001b[0m\u001b[0mline\u001b[0m\u001b[0;34m)\u001b[0m\u001b[0;34m\u001b[0m\u001b[0;34m\u001b[0m\u001b[0m\n\u001b[0;32m---> 13\u001b[0;31m                 \u001b[0;32mif\u001b[0m \u001b[0mvalues_sanity_check\u001b[0m\u001b[0;34m(\u001b[0m\u001b[0mvalues\u001b[0m\u001b[0;34m)\u001b[0m\u001b[0;34m:\u001b[0m\u001b[0;34m\u001b[0m\u001b[0;34m\u001b[0m\u001b[0m\n\u001b[0m\u001b[1;32m     14\u001b[0m                     \u001b[0mrows\u001b[0m \u001b[0;34m=\u001b[0m \u001b[0mparse_values\u001b[0m\u001b[0;34m(\u001b[0m\u001b[0mvalues\u001b[0m\u001b[0;34m)\u001b[0m\u001b[0;34m\u001b[0m\u001b[0;34m\u001b[0m\u001b[0m\n\u001b[1;32m     15\u001b[0m \u001b[0;34m\u001b[0m\u001b[0m\n",
      "\u001b[0;32m<ipython-input-9-84d567f1944d>\u001b[0m in \u001b[0;36mvalues_sanity_check\u001b[0;34m(values)\u001b[0m\n\u001b[1;32m      1\u001b[0m \u001b[0;32mdef\u001b[0m \u001b[0mvalues_sanity_check\u001b[0m\u001b[0;34m(\u001b[0m\u001b[0mvalues\u001b[0m\u001b[0;34m)\u001b[0m\u001b[0;34m:\u001b[0m\u001b[0;34m\u001b[0m\u001b[0;34m\u001b[0m\u001b[0m\n\u001b[0;32m----> 2\u001b[0;31m     \u001b[0;32massert\u001b[0m \u001b[0mvalues\u001b[0m\u001b[0;34m\u001b[0m\u001b[0;34m\u001b[0m\u001b[0m\n\u001b[0m\u001b[1;32m      3\u001b[0m     \u001b[0;32massert\u001b[0m \u001b[0mvalues\u001b[0m\u001b[0;34m[\u001b[0m\u001b[0;36m0\u001b[0m\u001b[0;34m]\u001b[0m \u001b[0;34m==\u001b[0m \u001b[0;34m'('\u001b[0m\u001b[0;34m\u001b[0m\u001b[0;34m\u001b[0m\u001b[0m\n\u001b[1;32m      4\u001b[0m     \u001b[0;31m# Assertions have not been raised\u001b[0m\u001b[0;34m\u001b[0m\u001b[0;34m\u001b[0m\u001b[0;34m\u001b[0m\u001b[0m\n\u001b[1;32m      5\u001b[0m     \u001b[0;32mreturn\u001b[0m \u001b[0;32mTrue\u001b[0m\u001b[0;34m\u001b[0m\u001b[0;34m\u001b[0m\u001b[0m\n",
      "\u001b[0;31mAssertionError\u001b[0m: "
     ]
    }
   ],
   "source": [
    "if __name__ == '__main__':\n",
    "#     parser = argparse.ArgumentParser(description='Convert sqldump to csv')\n",
    "\n",
    "#     parser.add_argument('sql_filepath', action=\"store\", type=str)\n",
    "#     parser.add_argument('output_dir', action=\"store\", default='.', type=str)\n",
    "\n",
    "#     args = parser.parse_args()\n",
    "\n",
    "#     file_path = args.sql_filepath\n",
    "#     out_dir = args.output_dir if args.output_dir.endswith('/') else args.output_dir + '/'\n",
    "    file_path = './dataset.sql'\n",
    "    out_dir = './csv/'\n",
    "\n",
    "    main(file_path, out_dir)"
   ]
  },
  {
   "cell_type": "code",
   "execution_count": null,
   "metadata": {},
   "outputs": [],
   "source": []
  }
 ],
 "metadata": {
  "kernelspec": {
   "display_name": "Python 3",
   "language": "python",
   "name": "python3"
  },
  "language_info": {
   "codemirror_mode": {
    "name": "ipython",
    "version": 3
   },
   "file_extension": ".py",
   "mimetype": "text/x-python",
   "name": "python",
   "nbconvert_exporter": "python",
   "pygments_lexer": "ipython3",
   "version": "3.7.1"
  }
 },
 "nbformat": 4,
 "nbformat_minor": 2
}
