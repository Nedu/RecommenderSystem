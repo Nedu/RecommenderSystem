{
 "cells": [
  {
   "cell_type": "markdown",
   "metadata": {},
   "source": [
    "# FOLLOWER RECOMMENDER"
   ]
  },
  {
   "cell_type": "markdown",
   "metadata": {},
   "source": [
    "IMPORT NECESSARY LIBRARIES"
   ]
  },
  {
   "cell_type": "code",
   "execution_count": 1,
   "metadata": {},
   "outputs": [],
   "source": [
    "import numpy as np\n",
    "import pandas as pd\n",
    "import os"
   ]
  },
  {
   "cell_type": "code",
   "execution_count": 2,
   "metadata": {},
   "outputs": [
    {
     "name": "stdout",
     "output_type": "stream",
     "text": [
      "['following.csv', 'posts.csv', 'users.csv']\n"
     ]
    }
   ],
   "source": [
    "print(os.listdir(\"C:\\\\Users\\\\ERY\\\\Desktop\\\\lucid\"))"
   ]
  },
  {
   "cell_type": "code",
   "execution_count": 3,
   "metadata": {},
   "outputs": [
    {
     "data": {
      "text/plain": [
       "Index(['id', 'name', 'short_bio'], dtype='object')"
      ]
     },
     "execution_count": 3,
     "metadata": {},
     "output_type": "execute_result"
    }
   ],
   "source": [
    "user = pd.read_csv(\"C:\\\\Users\\\\ERY\\\\Desktop\\\\lucid\\\\users.csv\")\n",
    "user.columns"
   ]
  },
  {
   "cell_type": "code",
   "execution_count": 4,
   "metadata": {},
   "outputs": [
    {
     "data": {
      "text/html": [
       "<div>\n",
       "<style scoped>\n",
       "    .dataframe tbody tr th:only-of-type {\n",
       "        vertical-align: middle;\n",
       "    }\n",
       "\n",
       "    .dataframe tbody tr th {\n",
       "        vertical-align: top;\n",
       "    }\n",
       "\n",
       "    .dataframe thead th {\n",
       "        text-align: right;\n",
       "    }\n",
       "</style>\n",
       "<table border=\"1\" class=\"dataframe\">\n",
       "  <thead>\n",
       "    <tr style=\"text-align: right;\">\n",
       "      <th></th>\n",
       "      <th>id</th>\n",
       "      <th>name</th>\n",
       "      <th>short_bio</th>\n",
       "    </tr>\n",
       "  </thead>\n",
       "  <tbody>\n",
       "    <tr>\n",
       "      <th>0</th>\n",
       "      <td>1</td>\n",
       "      <td>Eniayomi Oluwaseyi</td>\n",
       "      <td>Software Developer | DevOPs Engineer</td>\n",
       "    </tr>\n",
       "    <tr>\n",
       "      <th>1</th>\n",
       "      <td>2</td>\n",
       "      <td>Elijah Okokon</td>\n",
       "      <td>Web Developer</td>\n",
       "    </tr>\n",
       "    <tr>\n",
       "      <th>2</th>\n",
       "      <td>3</td>\n",
       "      <td>Jeffrey Ogah</td>\n",
       "      <td>Front End Developer | React Developer | Mentor...</td>\n",
       "    </tr>\n",
       "    <tr>\n",
       "      <th>3</th>\n",
       "      <td>4</td>\n",
       "      <td>Oluwaseyi Oluwapelumi</td>\n",
       "      <td>| Software Developer | DevOps Engineer | @linu...</td>\n",
       "    </tr>\n",
       "    <tr>\n",
       "      <th>4</th>\n",
       "      <td>5</td>\n",
       "      <td>PoRH</td>\n",
       "      <td>I Am lamar and you don't think am real?</td>\n",
       "    </tr>\n",
       "    <tr>\n",
       "      <th>5</th>\n",
       "      <td>6</td>\n",
       "      <td>Seyi Onifade</td>\n",
       "      <td>My Open Diary</td>\n",
       "    </tr>\n",
       "    <tr>\n",
       "      <th>6</th>\n",
       "      <td>7</td>\n",
       "      <td>Mark Essien</td>\n",
       "      <td>An engineer</td>\n",
       "    </tr>\n",
       "    <tr>\n",
       "      <th>7</th>\n",
       "      <td>8</td>\n",
       "      <td>Alex Moses</td>\n",
       "      <td>Software Developer hotelsng, Ex. Frontend deve...</td>\n",
       "    </tr>\n",
       "    <tr>\n",
       "      <th>8</th>\n",
       "      <td>9</td>\n",
       "      <td>Edmund Ekott</td>\n",
       "      <td>Front-end Engineer 💻 | FIFA advocate 🎮 |  Ninja 🥋</td>\n",
       "    </tr>\n",
       "    <tr>\n",
       "      <th>9</th>\n",
       "      <td>10</td>\n",
       "      <td>Stefan aGz</td>\n",
       "      <td>Here</td>\n",
       "    </tr>\n",
       "  </tbody>\n",
       "</table>\n",
       "</div>"
      ],
      "text/plain": [
       "   id                   name  \\\n",
       "0   1     Eniayomi Oluwaseyi   \n",
       "1   2          Elijah Okokon   \n",
       "2   3           Jeffrey Ogah   \n",
       "3   4  Oluwaseyi Oluwapelumi   \n",
       "4   5                   PoRH   \n",
       "5   6           Seyi Onifade   \n",
       "6   7            Mark Essien   \n",
       "7   8             Alex Moses   \n",
       "8   9           Edmund Ekott   \n",
       "9  10             Stefan aGz   \n",
       "\n",
       "                                           short_bio  \n",
       "0               Software Developer | DevOPs Engineer  \n",
       "1                                      Web Developer  \n",
       "2  Front End Developer | React Developer | Mentor...  \n",
       "3  | Software Developer | DevOps Engineer | @linu...  \n",
       "4            I Am lamar and you don't think am real?  \n",
       "5                                      My Open Diary  \n",
       "6                                        An engineer  \n",
       "7  Software Developer hotelsng, Ex. Frontend deve...  \n",
       "8  Front-end Engineer 💻 | FIFA advocate 🎮 |  Ninja 🥋  \n",
       "9                                               Here  "
      ]
     },
     "execution_count": 4,
     "metadata": {},
     "output_type": "execute_result"
    }
   ],
   "source": [
    "user.head(10)"
   ]
  },
  {
   "cell_type": "code",
   "execution_count": 5,
   "metadata": {},
   "outputs": [
    {
     "data": {
      "text/plain": [
       "(2293, 3)"
      ]
     },
     "execution_count": 5,
     "metadata": {},
     "output_type": "execute_result"
    }
   ],
   "source": [
    "user.shape"
   ]
  },
  {
   "cell_type": "code",
   "execution_count": 6,
   "metadata": {},
   "outputs": [
    {
     "data": {
      "text/plain": [
       "0                 Software Developer | DevOPs Engineer\n",
       "1                                        Web Developer\n",
       "2    Front End Developer | React Developer | Mentor...\n",
       "3    | Software Developer | DevOps Engineer | @linu...\n",
       "4              I Am lamar and you don't think am real?\n",
       "Name: short_bio, dtype: object"
      ]
     },
     "execution_count": 6,
     "metadata": {},
     "output_type": "execute_result"
    }
   ],
   "source": [
    "user['short_bio'].head(5)"
   ]
  },
  {
   "cell_type": "code",
   "execution_count": 7,
   "metadata": {},
   "outputs": [],
   "source": [
    "#Import TfIdfVectorizer from scikit-learn\n",
    "from sklearn.feature_extraction.text import TfidfVectorizer"
   ]
  },
  {
   "cell_type": "code",
   "execution_count": 8,
   "metadata": {},
   "outputs": [],
   "source": [
    "#Define a TF-IDF Vectorizer Object. Remove all english stop words such as 'the', 'a'\n",
    "tfidf = TfidfVectorizer(stop_words='english')"
   ]
  },
  {
   "cell_type": "code",
   "execution_count": 9,
   "metadata": {},
   "outputs": [],
   "source": [
    "#Replace NaN with an empty string\n",
    "user['short_bio'] = user['short_bio'].fillna('')"
   ]
  },
  {
   "cell_type": "code",
   "execution_count": 10,
   "metadata": {},
   "outputs": [],
   "source": [
    "#Construct the required TF-IDF matrix by fitting and transforming the data\n",
    "tfidf_matrix = tfidf.fit_transform(user['short_bio'])"
   ]
  },
  {
   "cell_type": "code",
   "execution_count": 11,
   "metadata": {},
   "outputs": [
    {
     "data": {
      "text/plain": [
       "(2293, 2242)"
      ]
     },
     "execution_count": 11,
     "metadata": {},
     "output_type": "execute_result"
    }
   ],
   "source": [
    "#Output the shape of tfidf_matrix\n",
    "# this produces the number of different words used by user in the short_bio\n",
    "tfidf_matrix.shape"
   ]
  },
  {
   "cell_type": "code",
   "execution_count": 12,
   "metadata": {},
   "outputs": [],
   "source": [
    "# Import linear_kernel\n",
    "from sklearn.metrics.pairwise import linear_kernel"
   ]
  },
  {
   "cell_type": "code",
   "execution_count": 13,
   "metadata": {},
   "outputs": [],
   "source": [
    "# Compute the cosine similarity matrix\n",
    "consine_sim = linear_kernel(tfidf_matrix, tfidf_matrix, True)"
   ]
  },
  {
   "cell_type": "code",
   "execution_count": 15,
   "metadata": {},
   "outputs": [],
   "source": [
    "#Construct a reverse map of indices and user name\n",
    "indices = pd.Series(user.index, index=user['name']).drop_duplicates()"
   ]
  },
  {
   "cell_type": "code",
   "execution_count": 16,
   "metadata": {},
   "outputs": [],
   "source": [
    "# Function that takes in user name as input and outputs most similar users\n",
    "def get_followers(name, consine_sim=consine_sim):\n",
    "    # Get the index of the users that matches the user\n",
    "    idx = indices[name]\n",
    "    # Get the pairwsie similarity scores of all users with that user\n",
    "    sim_scores = list(enumerate(consine_sim[idx]))\n",
    "    # Sort the users based on the similarity scores\n",
    "    sim_scores = sorted(sim_scores, key=lambda x: x[1], reverse=True)\n",
    "    # Get the scores of the 10 most similar users\n",
    "    sim_scores = sim_scores[1:11]\n",
    "     # Get the user indices\n",
    "    follow_indices = [i[0] for i in sim_scores]\n",
    "      # Return the top 10 most similar user\n",
    "    return user['name'].iloc[follow_indices]"
   ]
  },
  {
   "cell_type": "code",
   "execution_count": 17,
   "metadata": {},
   "outputs": [
    {
     "data": {
      "text/plain": [
       "235     Alexander Ibrahim\n",
       "877           taiwo coker\n",
       "1667            Uche Jude\n",
       "1902          Nedu Robert\n",
       "2051       victor ugwueze\n",
       "2057          Kenneth Kae\n",
       "1267        Ahmed Ibrahim\n",
       "1732     Olawale Oguntade\n",
       "6             Mark Essien\n",
       "665     Tolulope Ogunfuwa\n",
       "Name: name, dtype: object"
      ]
     },
     "execution_count": 17,
     "metadata": {},
     "output_type": "execute_result"
    }
   ],
   "source": [
    "get_followers('Nedu Robert')"
   ]
  },
  {
   "cell_type": "code",
   "execution_count": null,
   "metadata": {},
   "outputs": [],
   "source": []
  },
  {
   "cell_type": "code",
   "execution_count": null,
   "metadata": {},
   "outputs": [],
   "source": []
  },
  {
   "cell_type": "code",
   "execution_count": null,
   "metadata": {},
   "outputs": [],
   "source": []
  }
 ],
 "metadata": {
  "kernelspec": {
   "display_name": "Python 3",
   "language": "python",
   "name": "python3"
  },
  "language_info": {
   "codemirror_mode": {
    "name": "ipython",
    "version": 3
   },
   "file_extension": ".py",
   "mimetype": "text/x-python",
   "name": "python",
   "nbconvert_exporter": "python",
   "pygments_lexer": "ipython3",
   "version": "3.7.3"
  }
 },
 "nbformat": 4,
 "nbformat_minor": 2
}
